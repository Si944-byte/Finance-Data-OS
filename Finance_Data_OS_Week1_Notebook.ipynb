{
 "cells": [
  {
   "cell_type": "markdown",
   "id": "93eb5463",
   "metadata": {},
   "source": [
    "# Finance Data OS — Week 1 Notebook\n",
    "**CSV → Parquet → Validate → Load → Features → Plot → Power BI**\n",
    "\n",
    "This notebook is a **step-by-step guide** to build your first working pipeline:\n",
    "- Read a small OHLCV CSV\n",
    "- Write **Apache Parquet** (partitioned by ticker/year)\n",
    "- Validate schema with **Pandera**\n",
    "- Compute simple features\n",
    "- Quick chart\n",
    "- Load into Power BI"
   ]
  },
  {
   "cell_type": "markdown",
   "id": "37ae75ae",
   "metadata": {},
   "source": [
    "## ✅ Setup instructions (one time)\n",
    "Run these in Command Prompt or PowerShell before using the notebook:\n",
    "```bash\n",
    "python -m venv .venv\n",
    " .venv\\Scripts\\activate.bat   # (Windows CMD)\n",
    "pip install pandas pyarrow pandera matplotlib jupyter\n",
    "```\n",
    "> Make sure you are using **Python 3.11 (64-bit)** for best compatibility."
   ]
  },
  {
   "cell_type": "code",
   "execution_count": 1,
   "id": "2f866317",
   "metadata": {},
   "outputs": [
    {
     "name": "stdout",
     "output_type": "stream",
     "text": [
      "Python: 3.11.0 (main, Oct 24 2022, 18:26:48) [MSC v.1933 64 bit (AMD64)]\n",
      "pandas: 2.2.2\n"
     ]
    }
   ],
   "source": [
    "from pathlib import Path\n",
    "import pandas as pd\n",
    "import glob\n",
    "\n",
    "print('Python:', sys.version)\n",
    "print('pandas:', pd.__version__)"
   ]
  },
  {
   "cell_type": "markdown",
   "id": "444e227f",
   "metadata": {},
   "source": [
    "## Step 1 — Create a sample CSV (if you don’t have one yet)"
   ]
  },
  {
   "cell_type": "code",
   "execution_count": 2,
   "id": "40b9cb2c",
   "metadata": {},
   "outputs": [
    {
     "name": "stdout",
     "output_type": "stream",
     "text": [
      "Found existing CSV at raw\\AAPL_daily.csv\n"
     ]
    }
   ],
   "source": [
    "RAW_DIR = Path('raw')\n",
    "RAW_DIR.mkdir(parents=True, exist_ok=True)\n",
    "csv_path = RAW_DIR / 'AAPL_daily.csv'\n",
    "\n",
    "if not csv_path.exists():\n",
    "    csv_path.write_text(\n",
    "        'Date,Open,High,Low,Close,Adj Close,Volume\\n'\n",
    "        '2024-12-27,193.11,194.40,192.50,193.60,193.60,46639400\\n'\n",
    "        '2024-12-30,194.00,196.25,193.80,195.95,195.95,38911200\\n'\n",
    "        '2024-12-31,196.10,197.20,195.50,196.75,196.75,35200800\\n'\n",
    "        '2025-01-02,197.00,198.40,196.20,198.10,198.10,41123400\\n'\n",
    "    )\n",
    "    print('Created sample CSV at', csv_path)\n",
    "else:\n",
    "    print('Found existing CSV at', csv_path)"
   ]
  },
  {
   "cell_type": "markdown",
   "id": "af1b9c7b",
   "metadata": {},
   "source": [
    "## Step 2 — Read CSV → DataFrame and enforce types"
   ]
  },
  {
   "cell_type": "code",
   "execution_count": 3,
   "id": "d575fe4d",
   "metadata": {},
   "outputs": [
    {
     "data": {
      "text/html": [
       "<div>\n",
       "<style scoped>\n",
       "    .dataframe tbody tr th:only-of-type {\n",
       "        vertical-align: middle;\n",
       "    }\n",
       "\n",
       "    .dataframe tbody tr th {\n",
       "        vertical-align: top;\n",
       "    }\n",
       "\n",
       "    .dataframe thead th {\n",
       "        text-align: right;\n",
       "    }\n",
       "</style>\n",
       "<table border=\"1\" class=\"dataframe\">\n",
       "  <thead>\n",
       "    <tr style=\"text-align: right;\">\n",
       "      <th></th>\n",
       "      <th>Date</th>\n",
       "      <th>Open</th>\n",
       "      <th>High</th>\n",
       "      <th>Low</th>\n",
       "      <th>Close</th>\n",
       "      <th>Volume</th>\n",
       "      <th>Ticker</th>\n",
       "    </tr>\n",
       "  </thead>\n",
       "  <tbody>\n",
       "    <tr>\n",
       "      <th>0</th>\n",
       "      <td>2024-12-27</td>\n",
       "      <td>193.11</td>\n",
       "      <td>194.40</td>\n",
       "      <td>192.5</td>\n",
       "      <td>193.60</td>\n",
       "      <td>46639400</td>\n",
       "      <td>AAPL</td>\n",
       "    </tr>\n",
       "    <tr>\n",
       "      <th>1</th>\n",
       "      <td>2024-12-30</td>\n",
       "      <td>194.00</td>\n",
       "      <td>196.25</td>\n",
       "      <td>193.8</td>\n",
       "      <td>195.95</td>\n",
       "      <td>38911200</td>\n",
       "      <td>AAPL</td>\n",
       "    </tr>\n",
       "    <tr>\n",
       "      <th>2</th>\n",
       "      <td>2024-12-31</td>\n",
       "      <td>196.10</td>\n",
       "      <td>197.20</td>\n",
       "      <td>195.5</td>\n",
       "      <td>196.75</td>\n",
       "      <td>35200800</td>\n",
       "      <td>AAPL</td>\n",
       "    </tr>\n",
       "    <tr>\n",
       "      <th>3</th>\n",
       "      <td>2025-01-02</td>\n",
       "      <td>197.00</td>\n",
       "      <td>198.40</td>\n",
       "      <td>196.2</td>\n",
       "      <td>198.10</td>\n",
       "      <td>41123400</td>\n",
       "      <td>AAPL</td>\n",
       "    </tr>\n",
       "  </tbody>\n",
       "</table>\n",
       "</div>"
      ],
      "text/plain": [
       "        Date    Open    High    Low   Close    Volume Ticker\n",
       "0 2024-12-27  193.11  194.40  192.5  193.60  46639400   AAPL\n",
       "1 2024-12-30  194.00  196.25  193.8  195.95  38911200   AAPL\n",
       "2 2024-12-31  196.10  197.20  195.5  196.75  35200800   AAPL\n",
       "3 2025-01-02  197.00  198.40  196.2  198.10  41123400   AAPL"
      ]
     },
     "execution_count": 3,
     "metadata": {},
     "output_type": "execute_result"
    }
   ],
   "source": [
    "df = pd.read_csv(csv_path, parse_dates=['Date'])\n",
    "df = df[['Date','Open','High','Low','Close','Volume']].copy()\n",
    "df['Ticker'] = 'AAPL'\n",
    "\n",
    "for c in ['Open','High','Low','Close']:\n",
    "    df[c] = pd.to_numeric(df[c], errors='coerce')\n",
    "df['Volume'] = pd.to_numeric(df['Volume'], errors='coerce').astype('Int64')\n",
    "\n",
    "df.head()"
   ]
  },
  {
   "cell_type": "markdown",
   "id": "bb3bd901",
   "metadata": {},
   "source": [
    "## Step 3 — Write partitioned Parquet files"
   ]
  },
  {
   "cell_type": "code",
   "execution_count": 4,
   "id": "047d233d",
   "metadata": {},
   "outputs": [
    {
     "name": "stdout",
     "output_type": "stream",
     "text": [
      "Wrote lake\\ohlcv\\ticker=AAPL\\year=2024\\AAPL_2024.parquet\n",
      "Wrote lake\\ohlcv\\ticker=AAPL\\year=2025\\AAPL_2025.parquet\n"
     ]
    }
   ],
   "source": [
    "LAKE_DIR = Path('lake/ohlcv')\n",
    "LAKE_DIR.mkdir(parents=True, exist_ok=True)\n",
    "\n",
    "df['Year'] = df['Date'].dt.year\n",
    "\n",
    "for year, g in df.groupby('Year'):\n",
    "    out_dir = LAKE_DIR / f'ticker=AAPL' / f'year={year}'\n",
    "    out_dir.mkdir(parents=True, exist_ok=True)\n",
    "    out_file = out_dir / f'AAPL_{year}.parquet'\n",
    "    g.drop(columns=['Year']).to_parquet(out_file, engine='pyarrow', index=False)\n",
    "    print('Wrote', out_file)"
   ]
  },
  {
   "cell_type": "markdown",
   "id": "924e850d",
   "metadata": {},
   "source": [
    "## Step 4 — Validate schema with Pandera"
   ]
  },
  {
   "cell_type": "code",
   "execution_count": 6,
   "id": "14624912",
   "metadata": {},
   "outputs": [
    {
     "name": "stdout",
     "output_type": "stream",
     "text": [
      "✅ Schema validation passed (DataFrameSchema)\n"
     ]
    },
    {
     "data": {
      "text/html": [
       "<div>\n",
       "<style scoped>\n",
       "    .dataframe tbody tr th:only-of-type {\n",
       "        vertical-align: middle;\n",
       "    }\n",
       "\n",
       "    .dataframe tbody tr th {\n",
       "        vertical-align: top;\n",
       "    }\n",
       "\n",
       "    .dataframe thead th {\n",
       "        text-align: right;\n",
       "    }\n",
       "</style>\n",
       "<table border=\"1\" class=\"dataframe\">\n",
       "  <thead>\n",
       "    <tr style=\"text-align: right;\">\n",
       "      <th></th>\n",
       "      <th>Date</th>\n",
       "      <th>Open</th>\n",
       "      <th>High</th>\n",
       "      <th>Low</th>\n",
       "      <th>Close</th>\n",
       "      <th>Volume</th>\n",
       "      <th>Ticker</th>\n",
       "    </tr>\n",
       "  </thead>\n",
       "  <tbody>\n",
       "    <tr>\n",
       "      <th>0</th>\n",
       "      <td>2024-12-27</td>\n",
       "      <td>193.11</td>\n",
       "      <td>194.40</td>\n",
       "      <td>192.5</td>\n",
       "      <td>193.60</td>\n",
       "      <td>46639400</td>\n",
       "      <td>AAPL</td>\n",
       "    </tr>\n",
       "    <tr>\n",
       "      <th>1</th>\n",
       "      <td>2024-12-30</td>\n",
       "      <td>194.00</td>\n",
       "      <td>196.25</td>\n",
       "      <td>193.8</td>\n",
       "      <td>195.95</td>\n",
       "      <td>38911200</td>\n",
       "      <td>AAPL</td>\n",
       "    </tr>\n",
       "    <tr>\n",
       "      <th>2</th>\n",
       "      <td>2024-12-31</td>\n",
       "      <td>196.10</td>\n",
       "      <td>197.20</td>\n",
       "      <td>195.5</td>\n",
       "      <td>196.75</td>\n",
       "      <td>35200800</td>\n",
       "      <td>AAPL</td>\n",
       "    </tr>\n",
       "  </tbody>\n",
       "</table>\n",
       "</div>"
      ],
      "text/plain": [
       "        Date    Open    High    Low   Close    Volume Ticker\n",
       "0 2024-12-27  193.11  194.40  192.5  193.60  46639400   AAPL\n",
       "1 2024-12-30  194.00  196.25  193.8  195.95  38911200   AAPL\n",
       "2 2024-12-31  196.10  197.20  195.5  196.75  35200800   AAPL"
      ]
     },
     "execution_count": 6,
     "metadata": {},
     "output_type": "execute_result"
    }
   ],
   "source": [
    "import pandera as pa\n",
    "\n",
    "schema = pa.DataFrameSchema(\n",
    "    {\n",
    "        \"Date\":   pa.Column(pa.DateTime),\n",
    "        \"Ticker\": pa.Column(pa.String),\n",
    "        \"Open\":   pa.Column(pa.Float),\n",
    "        \"High\":   pa.Column(pa.Float),\n",
    "        \"Low\":    pa.Column(pa.Float),\n",
    "        \"Close\":  pa.Column(pa.Float),\n",
    "        \"Volume\": pa.Column(pa.Int64),\n",
    "    },\n",
    "    strict=True,  # no extra columns allowed\n",
    ")\n",
    "\n",
    "parquet_files = glob.glob('lake/ohlcv/**/*.parquet', recursive=True)\n",
    "df_test = pd.read_parquet(parquet_files[0])\n",
    "schema.validate(df_test)\n",
    "\n",
    "print(\"✅ Schema validation passed (DataFrameSchema)\")\n",
    "df_test.head()\n"
   ]
  },
  {
   "cell_type": "markdown",
   "id": "892c08bc",
   "metadata": {},
   "source": [
    "## Step 5 — Add simple features and save mart file"
   ]
  },
  {
   "cell_type": "code",
   "execution_count": 7,
   "id": "7ea81ccc",
   "metadata": {},
   "outputs": [
    {
     "name": "stdout",
     "output_type": "stream",
     "text": [
      "Saved mart file: mart\\ohlcv_features.parquet\n"
     ]
    },
    {
     "data": {
      "text/html": [
       "<div>\n",
       "<style scoped>\n",
       "    .dataframe tbody tr th:only-of-type {\n",
       "        vertical-align: middle;\n",
       "    }\n",
       "\n",
       "    .dataframe tbody tr th {\n",
       "        vertical-align: top;\n",
       "    }\n",
       "\n",
       "    .dataframe thead th {\n",
       "        text-align: right;\n",
       "    }\n",
       "</style>\n",
       "<table border=\"1\" class=\"dataframe\">\n",
       "  <thead>\n",
       "    <tr style=\"text-align: right;\">\n",
       "      <th></th>\n",
       "      <th>Date</th>\n",
       "      <th>Open</th>\n",
       "      <th>High</th>\n",
       "      <th>Low</th>\n",
       "      <th>Close</th>\n",
       "      <th>Volume</th>\n",
       "      <th>Ticker</th>\n",
       "      <th>Return1</th>\n",
       "      <th>SMA10</th>\n",
       "    </tr>\n",
       "  </thead>\n",
       "  <tbody>\n",
       "    <tr>\n",
       "      <th>0</th>\n",
       "      <td>2024-12-27</td>\n",
       "      <td>193.11</td>\n",
       "      <td>194.40</td>\n",
       "      <td>192.5</td>\n",
       "      <td>193.60</td>\n",
       "      <td>46639400</td>\n",
       "      <td>AAPL</td>\n",
       "      <td>NaN</td>\n",
       "      <td>193.600000</td>\n",
       "    </tr>\n",
       "    <tr>\n",
       "      <th>1</th>\n",
       "      <td>2024-12-30</td>\n",
       "      <td>194.00</td>\n",
       "      <td>196.25</td>\n",
       "      <td>193.8</td>\n",
       "      <td>195.95</td>\n",
       "      <td>38911200</td>\n",
       "      <td>AAPL</td>\n",
       "      <td>0.012138</td>\n",
       "      <td>194.775000</td>\n",
       "    </tr>\n",
       "    <tr>\n",
       "      <th>2</th>\n",
       "      <td>2024-12-31</td>\n",
       "      <td>196.10</td>\n",
       "      <td>197.20</td>\n",
       "      <td>195.5</td>\n",
       "      <td>196.75</td>\n",
       "      <td>35200800</td>\n",
       "      <td>AAPL</td>\n",
       "      <td>0.004083</td>\n",
       "      <td>195.433333</td>\n",
       "    </tr>\n",
       "    <tr>\n",
       "      <th>3</th>\n",
       "      <td>2025-01-02</td>\n",
       "      <td>197.00</td>\n",
       "      <td>198.40</td>\n",
       "      <td>196.2</td>\n",
       "      <td>198.10</td>\n",
       "      <td>41123400</td>\n",
       "      <td>AAPL</td>\n",
       "      <td>0.006861</td>\n",
       "      <td>196.100000</td>\n",
       "    </tr>\n",
       "  </tbody>\n",
       "</table>\n",
       "</div>"
      ],
      "text/plain": [
       "        Date    Open    High    Low   Close    Volume Ticker   Return1  \\\n",
       "0 2024-12-27  193.11  194.40  192.5  193.60  46639400   AAPL       NaN   \n",
       "1 2024-12-30  194.00  196.25  193.8  195.95  38911200   AAPL  0.012138   \n",
       "2 2024-12-31  196.10  197.20  195.5  196.75  35200800   AAPL  0.004083   \n",
       "3 2025-01-02  197.00  198.40  196.2  198.10  41123400   AAPL  0.006861   \n",
       "\n",
       "        SMA10  \n",
       "0  193.600000  \n",
       "1  194.775000  \n",
       "2  195.433333  \n",
       "3  196.100000  "
      ]
     },
     "execution_count": 7,
     "metadata": {},
     "output_type": "execute_result"
    }
   ],
   "source": [
    "df_all = pd.concat([pd.read_parquet(p) for p in parquet_files], ignore_index=True)\n",
    "df_all = df_all.sort_values(['Date'])\n",
    "\n",
    "df_all['Return1'] = df_all['Close'].pct_change()\n",
    "df_all['SMA10'] = df_all['Close'].rolling(10, min_periods=1).mean()\n",
    "\n",
    "MART_DIR = Path('mart')\n",
    "MART_DIR.mkdir(exist_ok=True)\n",
    "mart_file = MART_DIR / 'ohlcv_features.parquet'\n",
    "df_all.to_parquet(mart_file, engine='pyarrow', index=False)\n",
    "print('Saved mart file:', mart_file)\n",
    "df_all.tail()"
   ]
  },
  {
   "cell_type": "markdown",
   "id": "e88cbb06",
   "metadata": {},
   "source": [
    "## Step 6 — Plot a quick chart"
   ]
  },
  {
   "cell_type": "code",
   "execution_count": 8,
   "id": "4321f753",
   "metadata": {},
   "outputs": [
    {
     "data": {
      "image/png": "[encoded data removed]",
      "text/plain": [
       "<Figure size 800x400 with 1 Axes>"
      ]
     },
     "metadata": {},
     "output_type": "display_data"
    }
   ],
   "source": [
    "plt.figure(figsize=(8,4))\n",
    "plt.plot(df_all['Date'], df_all['Close'])\n",
    "plt.title('AAPL Close Price')\n",
    "plt.xlabel('Date')\n",
    "plt.ylabel('Close')\n",
    "plt.tight_layout()\n",
    "plt.show()"
   ]
  },
  {
   "cell_type": "markdown",
   "id": "01f750a8",
   "metadata": {},
   "source": [
    "## Step 7 — Power BI (load Parquet)\n",
    "1. Open **Power BI Desktop**.\n",
    "2. Go to *Get Data* → *Parquet*.\n",
    "3. Select `mart/ohlcv_features.parquet`.\n",
    "4. Load data, set column types.\n",
    "5. Build a quick Date vs Close chart."
   ]
  },
  {
   "cell_type": "code",
   "execution_count": 2,
   "id": "af9de049-9e3f-459e-9eb8-27009a83871f",
   "metadata": {},
   "outputs": [
    {
     "name": "stdout",
     "output_type": "stream",
     "text": [
      "C:\\Users\\TJs PC\\OneDrive\\Desktop\\Finance Data OS\\mart\\ohlcv_features.parquet\n",
      "Exists: True\n"
     ]
    }
   ],
   "source": [
    "from pathlib import Path\n",
    "p = Path(\"mart/ohlcv_features.parquet\").resolve()\n",
    "print(p)\n",
    "print(\"Exists:\", p.exists())"
   ]
  },
  {
   "cell_type": "code",
   "execution_count": null,
   "id": "5673b3ab-8cea-4bd3-a0c3-9d0de076443c",
   "metadata": {},
   "outputs": [],
   "source": []
  }
 ],
 "metadata": {
  "kernelspec": {
   "display_name": "Python 3 (ipykernel)",
   "language": "python",
   "name": "python3"
  },
  "language_info": {
   "codemirror_mode": {
    "name": "ipython",
    "version": 3
   },
   "file_extension": ".py",
   "mimetype": "text/x-python",
   "name": "python",
   "nbconvert_exporter": "python",
   "pygments_lexer": "ipython3",
   "version": "3.11.0"
  }
 },
 "nbformat": 4,
 "nbformat_minor": 5
}
